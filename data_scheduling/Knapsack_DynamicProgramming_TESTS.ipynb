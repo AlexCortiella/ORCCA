{
 "cells": [
  {
   "cell_type": "code",
   "execution_count": 27,
   "id": "9cc7f746",
   "metadata": {},
   "outputs": [],
   "source": [
    "import numpy as np"
   ]
  },
  {
   "cell_type": "code",
   "execution_count": 28,
   "id": "d16534e3",
   "metadata": {},
   "outputs": [],
   "source": [
    "def KS_DP2(W, wt, vals, n):\n",
    "    \n",
    "    z = [0 for d in range(W+1)]\n",
    "    r = [0 for d in range(W+1)]\n",
    "    for j in range(n):\n",
    "        wj = wt[j]\n",
    "        pj = vals[j]\n",
    "        for d in reversed(range(wj, W+1)):\n",
    "            if z[d - wj] + pj > z[d]:\n",
    "                z[d] = z[d - wj] + pj\n",
    "                r[d] = j\n",
    "    \n",
    "    return z[W], r[W]\n",
    "\n",
    "def KS_DP3(W, wt, vals, n):\n",
    "    Xs = []\n",
    "    Z = []\n",
    "    Wb = W\n",
    "    nb = n\n",
    "    while Wb != 0:\n",
    "        z, r = KS_DP2(Wb, wt, vals, nb)\n",
    "        Xs.append(r)\n",
    "        Z.append(z)\n",
    "        nb = r - 1\n",
    "        Wb = Wb - wt[r]\n",
    "    return Z[0], Xs"
   ]
  },
  {
   "cell_type": "code",
   "execution_count": 29,
   "id": "2cdf851c",
   "metadata": {},
   "outputs": [
    {
     "name": "stdout",
     "output_type": "stream",
     "text": [
      "The memory_profiler extension is already loaded. To reload it, use:\n",
      "  %reload_ext memory_profiler\n",
      "peak memory: 118.73 MiB, increment: 0.02 MiB\n"
     ]
    }
   ],
   "source": [
    "########## PROFILING #############\n",
    "## Problem setup\n",
    "\n",
    "vals = [6, 5, 8, 9, 6, 7, 3] \n",
    "wt = [2, 3, 6, 7, 5, 9, 4] \n",
    "W = 9\n",
    "n = len(vals)\n",
    "\n",
    "\n",
    "%reload_ext line_profiler\n",
    "%lprun -f KS_DP3 KS_DP3(W, wt, vals, n)\n",
    "\n",
    "%load_ext memory_profiler\n",
    "%memit KS_DP3(W, wt, vals, n)"
   ]
  },
  {
   "cell_type": "code",
   "execution_count": 30,
   "id": "f39ce309",
   "metadata": {},
   "outputs": [],
   "source": [
    "### SCALABILITY ###\n",
    "import time\n",
    "import matplotlib.pyplot as plt\n",
    "item_case = [10, 100, 1000, 10000]\n",
    "max_val = 100\n",
    "max_weight = 100\n",
    "\n",
    "time_list = []"
   ]
  },
  {
   "cell_type": "code",
   "execution_count": 31,
   "id": "b6f9ff4c",
   "metadata": {},
   "outputs": [
    {
     "ename": "IndexError",
     "evalue": "list index out of range",
     "output_type": "error",
     "traceback": [
      "\u001b[1;31m---------------------------------------------------------------------------\u001b[0m",
      "\u001b[1;31mIndexError\u001b[0m                                Traceback (most recent call last)",
      "Cell \u001b[1;32mIn[31], line 7\u001b[0m\n\u001b[0;32m      4\u001b[0m W \u001b[38;5;241m=\u001b[39m \u001b[38;5;241m5\u001b[39m\u001b[38;5;241m*\u001b[39mmax_weight\n\u001b[0;32m      6\u001b[0m start \u001b[38;5;241m=\u001b[39m time\u001b[38;5;241m.\u001b[39mtime()\n\u001b[1;32m----> 7\u001b[0m \u001b[43mKS_DP3\u001b[49m\u001b[43m(\u001b[49m\u001b[43mW\u001b[49m\u001b[43m,\u001b[49m\u001b[43m \u001b[49m\u001b[43mwt\u001b[49m\u001b[43m,\u001b[49m\u001b[43m \u001b[49m\u001b[43mvals\u001b[49m\u001b[43m,\u001b[49m\u001b[43m \u001b[49m\u001b[43mn_items\u001b[49m\u001b[43m)\u001b[49m\n\u001b[0;32m      8\u001b[0m time_list\u001b[38;5;241m.\u001b[39mappend(time\u001b[38;5;241m.\u001b[39mtime() \u001b[38;5;241m-\u001b[39m start)\n",
      "Cell \u001b[1;32mIn[28], line 21\u001b[0m, in \u001b[0;36mKS_DP3\u001b[1;34m(W, wt, vals, n)\u001b[0m\n\u001b[0;32m     19\u001b[0m nb \u001b[38;5;241m=\u001b[39m n\n\u001b[0;32m     20\u001b[0m \u001b[38;5;28;01mwhile\u001b[39;00m Wb \u001b[38;5;241m!=\u001b[39m \u001b[38;5;241m0\u001b[39m:\n\u001b[1;32m---> 21\u001b[0m     z, r \u001b[38;5;241m=\u001b[39m \u001b[43mKS_DP2\u001b[49m\u001b[43m(\u001b[49m\u001b[43mWb\u001b[49m\u001b[43m,\u001b[49m\u001b[43m \u001b[49m\u001b[43mwt\u001b[49m\u001b[43m,\u001b[49m\u001b[43m \u001b[49m\u001b[43mvals\u001b[49m\u001b[43m,\u001b[49m\u001b[43m \u001b[49m\u001b[43mnb\u001b[49m\u001b[43m)\u001b[49m\n\u001b[0;32m     22\u001b[0m     Xs\u001b[38;5;241m.\u001b[39mappend(r)\n\u001b[0;32m     23\u001b[0m     Z\u001b[38;5;241m.\u001b[39mappend(z)\n",
      "Cell \u001b[1;32mIn[28], line 13\u001b[0m, in \u001b[0;36mKS_DP2\u001b[1;34m(W, wt, vals, n)\u001b[0m\n\u001b[0;32m     10\u001b[0m             z[d] \u001b[38;5;241m=\u001b[39m z[d \u001b[38;5;241m-\u001b[39m wj] \u001b[38;5;241m+\u001b[39m pj\n\u001b[0;32m     11\u001b[0m             r[d] \u001b[38;5;241m=\u001b[39m j\n\u001b[1;32m---> 13\u001b[0m \u001b[38;5;28;01mreturn\u001b[39;00m \u001b[43mz\u001b[49m\u001b[43m[\u001b[49m\u001b[43mW\u001b[49m\u001b[43m]\u001b[49m, r[W]\n",
      "\u001b[1;31mIndexError\u001b[0m: list index out of range"
     ]
    }
   ],
   "source": [
    "for n_items in item_case:\n",
    "    vals = list(np.random.randint(0, max_val, n_items))\n",
    "    wt = list(np.random.randint(1, max_weight, n_items))\n",
    "    W = 5*max_weight\n",
    "    \n",
    "    start = time.time()\n",
    "    KS_DP3(W, wt, vals, n_items)\n",
    "    time_list.append(time.time() - start)"
   ]
  },
  {
   "cell_type": "code",
   "execution_count": null,
   "id": "3c5ff7b4",
   "metadata": {},
   "outputs": [],
   "source": [
    "plt.plot(item_case, time_list, 'ro')"
   ]
  },
  {
   "cell_type": "code",
   "execution_count": 26,
   "id": "d434c61d",
   "metadata": {},
   "outputs": [
    {
     "data": {
      "text/plain": [
       "[54, 93, 52, 81, 29, 78, 41, 23, 80, 55]"
      ]
     },
     "execution_count": 26,
     "metadata": {},
     "output_type": "execute_result"
    }
   ],
   "source": [
    "wt"
   ]
  },
  {
   "cell_type": "code",
   "execution_count": null,
   "id": "07057509",
   "metadata": {},
   "outputs": [],
   "source": []
  }
 ],
 "metadata": {
  "kernelspec": {
   "display_name": "Python 3 (ipykernel)",
   "language": "python",
   "name": "python3"
  },
  "language_info": {
   "codemirror_mode": {
    "name": "ipython",
    "version": 3
   },
   "file_extension": ".py",
   "mimetype": "text/x-python",
   "name": "python",
   "nbconvert_exporter": "python",
   "pygments_lexer": "ipython3",
   "version": "3.10.8"
  }
 },
 "nbformat": 4,
 "nbformat_minor": 5
}

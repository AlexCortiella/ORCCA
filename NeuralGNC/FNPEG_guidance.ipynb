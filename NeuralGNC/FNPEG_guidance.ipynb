{
 "cells": [
  {
   "cell_type": "code",
   "execution_count": 2,
   "id": "d0ba4f57",
   "metadata": {},
   "outputs": [
    {
     "ename": "ModuleNotFoundError",
     "evalue": "No module named 'torchdyn'",
     "output_type": "error",
     "traceback": [
      "\u001b[0;31m---------------------------------------------------------------------------\u001b[0m",
      "\u001b[0;31mModuleNotFoundError\u001b[0m                       Traceback (most recent call last)",
      "Cell \u001b[0;32mIn[2], line 7\u001b[0m\n\u001b[1;32m      4\u001b[0m \u001b[38;5;28;01mimport\u001b[39;00m \u001b[38;5;21;01mtorch\u001b[39;00m\u001b[38;5;21;01m.\u001b[39;00m\u001b[38;5;21;01mnn\u001b[39;00m \u001b[38;5;28;01mas\u001b[39;00m \u001b[38;5;21;01mnn\u001b[39;00m\n\u001b[1;32m      5\u001b[0m \u001b[38;5;28;01mimport\u001b[39;00m \u001b[38;5;21;01mtorch\u001b[39;00m\u001b[38;5;21;01m.\u001b[39;00m\u001b[38;5;21;01moptim\u001b[39;00m \u001b[38;5;28;01mas\u001b[39;00m \u001b[38;5;21;01moptim\u001b[39;00m\n\u001b[0;32m----> 7\u001b[0m \u001b[38;5;28;01mfrom\u001b[39;00m \u001b[38;5;21;01mtorchdyn\u001b[39;00m\u001b[38;5;21;01m.\u001b[39;00m\u001b[38;5;21;01mcore\u001b[39;00m \u001b[38;5;28;01mimport\u001b[39;00m NeuralODE\n\u001b[1;32m      8\u001b[0m \u001b[38;5;28;01mfrom\u001b[39;00m \u001b[38;5;21;01mtorchdyn\u001b[39;00m\u001b[38;5;21;01m.\u001b[39;00m\u001b[38;5;21;01mnumerics\u001b[39;00m \u001b[38;5;28;01mimport\u001b[39;00m odeint, Euler, HyperEuler\n\u001b[1;32m      9\u001b[0m \u001b[38;5;28;01mimport\u001b[39;00m \u001b[38;5;21;01mnumpy\u001b[39;00m \u001b[38;5;28;01mas\u001b[39;00m \u001b[38;5;21;01mnp\u001b[39;00m\n",
      "\u001b[0;31mModuleNotFoundError\u001b[0m: No module named 'torchdyn'"
     ]
    }
   ],
   "source": [
    "## Imports\n",
    "import time\n",
    "import torch\n",
    "import torch.nn as nn\n",
    "import torch.optim as optim\n",
    "\n",
    "from torchdyn.core import NeuralODE\n",
    "from torchdyn.numerics import odeint, Euler, HyperEuler\n",
    "import numpy as np\n",
    "import os\n",
    "import torch.pi as pi\n",
    "\n",
    "from models.FNPEG import EOM_FNPEG_long"
   ]
  },
  {
   "cell_type": "code",
   "execution_count": null,
   "id": "781f1b98",
   "metadata": {},
   "outputs": [],
   "source": [
    "# Loss function declaration\n",
    "sf_star = torch.Tensor([7.952]).to(device)\n",
    "loss_func = LossFunc(sf_star)\n",
    "\n",
    "# Time span\n",
    "t0, tf = 0, 2 # initial and final time for controlling the system\n",
    "steps = 20 + 1 # so we have a time step of 0.1s\n",
    "t_span = torch.linspace(t0, tf, steps).to(device)\n",
    "\n",
    "lRef = 6.378135  #km\n",
    "tRef = torch.sqrt(lRef/9.81)\n",
    "Rmars = 3390.0\n",
    "# Initial distribution\n",
    "r0, theta0, phi0, v0, gamma0, psi0, s0 = Rmars + 130.0, 90*pi/180, 45*pi/180, 4000.0, -15*pi/180, 70*pi/180, 0.0\n",
    "x0 = torch.cat([r, theta, phi, v, gamma, psi, s], -1) # limit of the state distribution (in rads and rads/second)\n",
    "#init_dist = torch.distributions.Uniform(torch.Tensor([-x0, -x0]), torch.Tensor([x0, x0]))\n",
    "\n",
    "#Problem parameters\n",
    "\n",
    "#planet\n",
    "planet = {}\n",
    "planet['Omega'] = 1 / (24.6 * 3600) #rad/s\n",
    "\n",
    "#vehicle\n",
    "vehicle = {}\n",
    "vehicle['B0'] = 155 #kg/m^2\n",
    "vehicle['LD'] = 0.15\n",
    "\n",
    "#Guidance\n",
    "guid = {}\n",
    "guid['filter'] = {}\n",
    "guid['filter']['rho_L'] = 1.0\n",
    "guid['filter']['rho_D'] = 1.0\n",
    "guid['FNPEG'] = {}\n",
    "guid['FNPEG']['bankProfile'] = 'linear'\n",
    "muM = 4.282837e13\n",
    "e0 = muM/r0 - 0.5 * v0**2\n",
    "sigmaF = 1.0\n",
    "eF = 11.8944 #km^2/s^2\n",
    "sigma0 = 90*pi/180"
   ]
  },
  {
   "cell_type": "code",
   "execution_count": null,
   "id": "5e2615b7",
   "metadata": {},
   "outputs": [],
   "source": [
    "## Test integrator\n",
    "dyn = EOM_FNPEG_long(sigma0, e0, sigmaF, eF, lRef, tRef, planet, vehicle, guid).to('cuda')\n",
    "trajectory = odeint(dyn, x0, t_span, solver='tsit5', atol=1e-7, rtol=1e-7)    "
   ]
  },
  {
   "cell_type": "code",
   "execution_count": null,
   "id": "abc7e188",
   "metadata": {},
   "outputs": [],
   "source": [
    "\n",
    "\n",
    "# Hyperparameters\n",
    "lr = 3e-3\n",
    "epochs = 500\n",
    "bs = 1024\n",
    "opt = torch.optim.Adam(u.parameters(), lr=lr)\n",
    "\n",
    "# Training loop\n",
    "t0 = time.time(); losses=[]\n",
    "for e in range(epochs):\n",
    "    x0 = init_dist.sample((bs,)).to(device)\n",
    "    _, trajectory = odeint(dyn, x0, t_span, solver='tsit5', atol=1e-7, rtol=1e-7)    \n",
    "    loss = loss_func(trajectory); losses.append(loss.detach().cpu().item())\n",
    "    loss.backward(); opt.step(); opt.zero_grad()\n",
    "    print('Loss {:.4f} , epoch {}'.format(loss.item(), e), end='\\r')\n",
    "timing = time.time() - t0; print('\\nTraining time: {:.4f} s'.format(timing))\n",
    "\n"
   ]
  }
 ],
 "metadata": {
  "kernelspec": {
   "display_name": "Python 3 (ipykernel)",
   "language": "python",
   "name": "python3"
  },
  "language_info": {
   "codemirror_mode": {
    "name": "ipython",
    "version": 3
   },
   "file_extension": ".py",
   "mimetype": "text/x-python",
   "name": "python",
   "nbconvert_exporter": "python",
   "pygments_lexer": "ipython3",
   "version": "3.11.3"
  }
 },
 "nbformat": 4,
 "nbformat_minor": 5
}
